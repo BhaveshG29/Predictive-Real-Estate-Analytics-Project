{
 "cells": [
  {
   "cell_type": "code",
   "execution_count": 1,
   "id": "72e62df3",
   "metadata": {},
   "outputs": [],
   "source": [
    "import numpy as np\n",
    "import pandas as pd"
   ]
  },
  {
   "cell_type": "code",
   "execution_count": 2,
   "id": "eeeb5b55",
   "metadata": {},
   "outputs": [],
   "source": [
    "data = pd.read_csv(\"data/train.csv\")"
   ]
  },
  {
   "cell_type": "code",
   "execution_count": 3,
   "id": "e76c4787",
   "metadata": {},
   "outputs": [],
   "source": [
    "datatype = {\"Id\":\"int16\", \"MSSubClass\":\"int16\", \"LotFrontage\":\"float32\", \"LotArea\":\"int32\", \"OverallQual\":\"int8\",\"OverallCond\":\"int8\",\"MasVnrArea\":\"float32\", \"BsmtFinSF1\":\"int16\",\"BsmtFinSF2\":\"int16\",\"BsmtUnfSF\":\"int16\",\"TotalBsmtSF\":\"int16\"}\n",
    "data = data.astype(datatype)\n",
    "data[\"YearBuilt\"] = pd.to_datetime(data[\"YearBuilt\"],format=\"%Y\") \n",
    "data[\"YearRemodAdd\"] = pd.to_datetime(data[\"YearRemodAdd\"],format=\"%Y\") \n",
    "data[\"MoSold\"] = pd.to_datetime(data[\"MoSold\"],format=\"%m\") \n",
    "data[\"YrSold\"] = pd.to_datetime(data[\"YrSold\"],format=\"%Y\") \n",
    "data.index = data[\"Id\"]"
   ]
  },
  {
   "cell_type": "code",
   "execution_count": 4,
   "id": "8d3557f7",
   "metadata": {},
   "outputs": [
    {
     "name": "stdout",
     "output_type": "stream",
     "text": [
      "<class 'pandas.core.frame.DataFrame'>\n",
      "Index: 1460 entries, 1 to 1460\n",
      "Data columns (total 81 columns):\n",
      " #   Column         Non-Null Count  Dtype         \n",
      "---  ------         --------------  -----         \n",
      " 0   Id             1460 non-null   int16         \n",
      " 1   MSSubClass     1460 non-null   int16         \n",
      " 2   MSZoning       1460 non-null   object        \n",
      " 3   LotFrontage    1201 non-null   float32       \n",
      " 4   LotArea        1460 non-null   int32         \n",
      " 5   Street         1460 non-null   object        \n",
      " 6   Alley          91 non-null     object        \n",
      " 7   LotShape       1460 non-null   object        \n",
      " 8   LandContour    1460 non-null   object        \n",
      " 9   Utilities      1460 non-null   object        \n",
      " 10  LotConfig      1460 non-null   object        \n",
      " 11  LandSlope      1460 non-null   object        \n",
      " 12  Neighborhood   1460 non-null   object        \n",
      " 13  Condition1     1460 non-null   object        \n",
      " 14  Condition2     1460 non-null   object        \n",
      " 15  BldgType       1460 non-null   object        \n",
      " 16  HouseStyle     1460 non-null   object        \n",
      " 17  OverallQual    1460 non-null   int8          \n",
      " 18  OverallCond    1460 non-null   int8          \n",
      " 19  YearBuilt      1460 non-null   datetime64[ns]\n",
      " 20  YearRemodAdd   1460 non-null   datetime64[ns]\n",
      " 21  RoofStyle      1460 non-null   object        \n",
      " 22  RoofMatl       1460 non-null   object        \n",
      " 23  Exterior1st    1460 non-null   object        \n",
      " 24  Exterior2nd    1460 non-null   object        \n",
      " 25  MasVnrType     588 non-null    object        \n",
      " 26  MasVnrArea     1452 non-null   float32       \n",
      " 27  ExterQual      1460 non-null   object        \n",
      " 28  ExterCond      1460 non-null   object        \n",
      " 29  Foundation     1460 non-null   object        \n",
      " 30  BsmtQual       1423 non-null   object        \n",
      " 31  BsmtCond       1423 non-null   object        \n",
      " 32  BsmtExposure   1422 non-null   object        \n",
      " 33  BsmtFinType1   1423 non-null   object        \n",
      " 34  BsmtFinSF1     1460 non-null   int16         \n",
      " 35  BsmtFinType2   1422 non-null   object        \n",
      " 36  BsmtFinSF2     1460 non-null   int16         \n",
      " 37  BsmtUnfSF      1460 non-null   int16         \n",
      " 38  TotalBsmtSF    1460 non-null   int16         \n",
      " 39  Heating        1460 non-null   object        \n",
      " 40  HeatingQC      1460 non-null   object        \n",
      " 41  CentralAir     1460 non-null   object        \n",
      " 42  Electrical     1459 non-null   object        \n",
      " 43  1stFlrSF       1460 non-null   int64         \n",
      " 44  2ndFlrSF       1460 non-null   int64         \n",
      " 45  LowQualFinSF   1460 non-null   int64         \n",
      " 46  GrLivArea      1460 non-null   int64         \n",
      " 47  BsmtFullBath   1460 non-null   int64         \n",
      " 48  BsmtHalfBath   1460 non-null   int64         \n",
      " 49  FullBath       1460 non-null   int64         \n",
      " 50  HalfBath       1460 non-null   int64         \n",
      " 51  BedroomAbvGr   1460 non-null   int64         \n",
      " 52  KitchenAbvGr   1460 non-null   int64         \n",
      " 53  KitchenQual    1460 non-null   object        \n",
      " 54  TotRmsAbvGrd   1460 non-null   int64         \n",
      " 55  Functional     1460 non-null   object        \n",
      " 56  Fireplaces     1460 non-null   int64         \n",
      " 57  FireplaceQu    770 non-null    object        \n",
      " 58  GarageType     1379 non-null   object        \n",
      " 59  GarageYrBlt    1379 non-null   float64       \n",
      " 60  GarageFinish   1379 non-null   object        \n",
      " 61  GarageCars     1460 non-null   int64         \n",
      " 62  GarageArea     1460 non-null   int64         \n",
      " 63  GarageQual     1379 non-null   object        \n",
      " 64  GarageCond     1379 non-null   object        \n",
      " 65  PavedDrive     1460 non-null   object        \n",
      " 66  WoodDeckSF     1460 non-null   int64         \n",
      " 67  OpenPorchSF    1460 non-null   int64         \n",
      " 68  EnclosedPorch  1460 non-null   int64         \n",
      " 69  3SsnPorch      1460 non-null   int64         \n",
      " 70  ScreenPorch    1460 non-null   int64         \n",
      " 71  PoolArea       1460 non-null   int64         \n",
      " 72  PoolQC         7 non-null      object        \n",
      " 73  Fence          281 non-null    object        \n",
      " 74  MiscFeature    54 non-null     object        \n",
      " 75  MiscVal        1460 non-null   int64         \n",
      " 76  MoSold         1460 non-null   datetime64[ns]\n",
      " 77  YrSold         1460 non-null   datetime64[ns]\n",
      " 78  SaleType       1460 non-null   object        \n",
      " 79  SaleCondition  1460 non-null   object        \n",
      " 80  SalePrice      1460 non-null   int64         \n",
      "dtypes: datetime64[ns](4), float32(2), float64(1), int16(6), int32(1), int64(22), int8(2), object(43)\n",
      "memory usage: 838.4+ KB\n"
     ]
    }
   ],
   "source": [
    "data.info()\n",
    "#data"
   ]
  }
 ],
 "metadata": {
  "kernelspec": {
   "display_name": "Python 3 (ipykernel)",
   "language": "python",
   "name": "python3"
  },
  "language_info": {
   "codemirror_mode": {
    "name": "ipython",
    "version": 3
   },
   "file_extension": ".py",
   "mimetype": "text/x-python",
   "name": "python",
   "nbconvert_exporter": "python",
   "pygments_lexer": "ipython3",
   "version": "3.12.3"
  }
 },
 "nbformat": 4,
 "nbformat_minor": 5
}
