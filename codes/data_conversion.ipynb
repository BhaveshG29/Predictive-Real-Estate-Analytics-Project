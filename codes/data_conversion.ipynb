{
 "cells": [
  {
   "cell_type": "code",
   "execution_count": 183,
   "id": "72e62df3",
   "metadata": {},
   "outputs": [],
   "source": [
    "import numpy as np\n",
    "import pandas as pd"
   ]
  },
  {
   "cell_type": "code",
   "execution_count": 184,
   "id": "eeeb5b55",
   "metadata": {},
   "outputs": [],
   "source": [
    "data = pd.read_csv(\"data/train.csv\")"
   ]
  },
  {
   "cell_type": "code",
   "execution_count": 185,
   "id": "e76c4787",
   "metadata": {},
   "outputs": [],
   "source": [
    "#Setting Datatypes\n",
    "datatype = {\"Id\":\"int16\", \"MSSubClass\":\"int16\", \"LotFrontage\":\"float32\", \"LotArea\":\"int32\", \n",
    "            \"OverallQual\":\"int8\",\"OverallCond\":\"int8\",\"MasVnrArea\":\"float32\", \n",
    "            \"BsmtFinSF1\":\"int16\",\"BsmtFinSF2\":\"int16\",\"BsmtUnfSF\":\"int16\",\"TotalBsmtSF\":\"int16\",\n",
    "            \"1stFlrSF\":\"int16\", \"2ndFlrSF\":\"int16\",\"LowQualFinSF\":\"int16\",\"GrLivArea\":\"int16\",\n",
    "            \"BsmtFullBath\":\"int8\",\"BsmtHalfBath\":\"int8\",\"FullBath\":\"int8\",\"HalfBath\":\"int8\",\n",
    "            \"BedroomAbvGr\":\"int8\",\"KitchenAbvGr\":\"int8\", \"TotRmsAbvGrd\":\"int8\",\"Fireplaces\":\"int16\",\n",
    "            \"GarageCars\":\"int8\",\"GarageArea\":\"int16\", \"WoodDeckSF\":\"int16\",\"OpenPorchSF\":\"int16\",\n",
    "            \"EnclosedPorch\":\"int16\",\"3SsnPorch\":\"int16\",\"ScreenPorch\":\"int16\",\"PoolArea\":\"int16\",\n",
    "            \"MiscVal\":\"int16\",\"SalePrice\":\"int32\"}\n",
    "data = data.astype(datatype)\n",
    "data[\"YearBuilt\"] = pd.to_datetime(data[\"YearBuilt\"],format=\"%Y\") \n",
    "data[\"YearRemodAdd\"] = pd.to_datetime(data[\"YearRemodAdd\"],format=\"%Y\") \n",
    "data[\"MoSold\"] = pd.to_datetime(data[\"MoSold\"],format=\"%m\") \n",
    "data[\"YrSold\"] = pd.to_datetime(data[\"YrSold\"],format=\"%Y\") \n",
    "data[\"GarageYrBlt\"] = pd.to_datetime(data[\"GarageYrBlt\"],format=\"%Y\") \n",
    "data.index = data[\"Id\"]"
   ]
  },
  {
   "cell_type": "code",
   "execution_count": 255,
   "id": "8d3557f7",
   "metadata": {},
   "outputs": [],
   "source": [
    "#Handeling Nan or Missing Values\n",
    "data[\"LotFrontage\"] = data[\"LotFrontage\"].fillna(data[\"LotFrontage\"].median())\n",
    "data[\"Alley\"] = data[\"Alley\"].fillna(\"None\")\n",
    "data[\"MasVnrType\"] = data[\"MasVnrType\"].fillna(\"None\")\n",
    "data[\"BsmtQual\"] = data[\"BsmtQual\"].fillna(\"None\")\n",
    "data[\"BsmtCond\"] = data[\"BsmtCond\"].fillna(\"None\")\n",
    "data[\"BsmtExposure\"] = data[\"BsmtExposure\"].fillna(\"None\")\n",
    "data[\"BsmtFinType1\"] = data[\"BsmtFinType1\"].fillna(\"None\")\n",
    "data[\"BsmtFinType2\"] = data[\"BsmtFinType2\"].fillna(\"None\")\n",
    "data[\"Electrical\"] = \"SBrkr\"\n",
    "data[\"FireplaceQu\"] = data[\"FireplaceQu\"].fillna(\"None\")\n",
    "data[\"GarageType\"] = data[\"GarageType\"].fillna(\"None\")\n",
    "#Keeping GarageYrBlt & GarageFinish NaN values as NaN\n",
    "data[\"GarageQual\"] = data[\"GarageQual\"].fillna(\"None\")\n",
    "data[\"GarageCond\"] = data[\"GarageCond\"].fillna(\"None\")\n",
    "data[\"PoolQC\"] = data[\"PoolQC\"].fillna(\"None\")\n",
    "data[\"Fence\"] = data[\"Fence\"].fillna(\"None\")\n",
    "data[\"MiscFeature\"] = data[\"MiscFeature\"].fillna(\"None\")"
   ]
  },
  {
   "cell_type": "code",
   "execution_count": 261,
   "id": "da6679fc",
   "metadata": {},
   "outputs": [
    {
     "name": "stdout",
     "output_type": "stream",
     "text": [
      "Id               0\n",
      "MSSubClass       0\n",
      "MSZoning         0\n",
      "LotFrontage      0\n",
      "LotArea          0\n",
      "Street           0\n",
      "Alley            0\n",
      "LotShape         0\n",
      "LandContour      0\n",
      "Utilities        0\n",
      "LotConfig        0\n",
      "LandSlope        0\n",
      "Neighborhood     0\n",
      "Condition1       0\n",
      "Condition2       0\n",
      "BldgType         0\n",
      "HouseStyle       0\n",
      "OverallQual      0\n",
      "OverallCond      0\n",
      "YearBuilt        0\n",
      "YearRemodAdd     0\n",
      "RoofStyle        0\n",
      "RoofMatl         0\n",
      "Exterior1st      0\n",
      "Exterior2nd      0\n",
      "MasVnrType       0\n",
      "MasVnrArea       8\n",
      "ExterQual        0\n",
      "ExterCond        0\n",
      "Foundation       0\n",
      "BsmtQual         0\n",
      "BsmtCond         0\n",
      "BsmtExposure     0\n",
      "BsmtFinType1     0\n",
      "BsmtFinSF1       0\n",
      "BsmtFinType2     0\n",
      "BsmtFinSF2       0\n",
      "BsmtUnfSF        0\n",
      "TotalBsmtSF      0\n",
      "Heating          0\n",
      "HeatingQC        0\n",
      "CentralAir       0\n",
      "Electrical       0\n",
      "1stFlrSF         0\n",
      "2ndFlrSF         0\n",
      "LowQualFinSF     0\n",
      "GrLivArea        0\n",
      "BsmtFullBath     0\n",
      "BsmtHalfBath     0\n",
      "FullBath         0\n",
      "HalfBath         0\n",
      "BedroomAbvGr     0\n",
      "KitchenAbvGr     0\n",
      "KitchenQual      0\n",
      "TotRmsAbvGrd     0\n",
      "Functional       0\n",
      "Fireplaces       0\n",
      "FireplaceQu      0\n",
      "GarageType       0\n",
      "GarageYrBlt     81\n",
      "dtype: int64\n",
      "GarageCars       0\n",
      "GarageArea       0\n",
      "GarageQual       0\n",
      "GarageCond       0\n",
      "PavedDrive       0\n",
      "WoodDeckSF       0\n",
      "OpenPorchSF      0\n",
      "EnclosedPorch    0\n",
      "3SsnPorch        0\n",
      "ScreenPorch      0\n",
      "PoolArea         0\n",
      "PoolQC           0\n",
      "Fence            0\n",
      "MiscFeature      0\n",
      "MiscVal          0\n",
      "MoSold           0\n",
      "YrSold           0\n",
      "SaleType         0\n",
      "SaleCondition    0\n",
      "SalePrice        0\n",
      "dtype: int64\n"
     ]
    }
   ],
   "source": [
    "print(data.isna().sum().head(60))\n",
    "print(data.isna().sum().tail(20))"
   ]
  }
 ],
 "metadata": {
  "kernelspec": {
   "display_name": "Python 3 (ipykernel)",
   "language": "python",
   "name": "python3"
  },
  "language_info": {
   "codemirror_mode": {
    "name": "ipython",
    "version": 3
   },
   "file_extension": ".py",
   "mimetype": "text/x-python",
   "name": "python",
   "nbconvert_exporter": "python",
   "pygments_lexer": "ipython3",
   "version": "3.12.3"
  }
 },
 "nbformat": 4,
 "nbformat_minor": 5
}
